{
  "nbformat": 4,
  "nbformat_minor": 0,
  "metadata": {
    "colab": {
      "provenance": [],
      "mount_file_id": "1tdd0Hu1Jb_-9IOq59Quy4QP90oQVG0w3",
      "authorship_tag": "ABX9TyO29knOtO5jlKGVC9tYuZRx",
      "include_colab_link": true
    },
    "kernelspec": {
      "name": "python3",
      "display_name": "Python 3"
    },
    "language_info": {
      "name": "python"
    }
  },
  "cells": [
    {
      "cell_type": "markdown",
      "metadata": {
        "id": "view-in-github",
        "colab_type": "text"
      },
      "source": [
        "<a href=\"https://colab.research.google.com/github/BrennerKosDutra/dra-python-t1/blob/main/Trabalho_dev_python.ipynb\" target=\"_parent\"><img src=\"https://colab.research.google.com/assets/colab-badge.svg\" alt=\"Open In Colab\"/></a>"
      ]
    },
    {
      "cell_type": "code",
      "source": [
        "#exemplo 10 - Ler um arquivo com caracteres acentuados:​\n",
        "f = open('vendas.txt', 'r')\n",
        "print(f.read())\n",
        "f.close()"
      ],
      "metadata": {
        "colab": {
          "base_uri": "https://localhost:8080/"
        },
        "id": "SXS-R-DUAGIg",
        "outputId": "3b3efb6d-b41b-4ed5-a2a2-2c29fffdb14e"
      },
      "execution_count": 106,
      "outputs": [
        {
          "output_type": "stream",
          "name": "stdout",
          "text": [
            "Produto;Categoria;Quantidade;Preço_Unitario;Data\n",
            "Caneta Azul;Papelaria;10;1.50;2024-03-01\n",
            "Caderno Universitário;Papelaria;5;12.90;2024-03-01\n",
            "Mouse Óptico;Eletrônicos;2;45.00;2024-03-02\n",
            "Teclado USB;Eletrônicos;1;89.90;2024-03-02\n",
            "Lápis Preto;Papelaria;20;0.80;2024-03-03\n",
            "Cabo HDMI;Eletrônicos;3;25.00;2024-03-04\n",
            "Livro de Python;Livros;1;55.00;2024-03-04\n",
            "\n"
          ]
        }
      ]
    },
    {
      "cell_type": "code",
      "source": [
        "#exemplo 09 -  ler cada linha diretamente do arquivo sem readline() e/ou readlines(): ​\n",
        "f = open('vendas.txt', 'r')\n",
        "for linha in f:\n",
        "    print(linha)\n",
        "f.close()"
      ],
      "metadata": {
        "colab": {
          "base_uri": "https://localhost:8080/"
        },
        "id": "B0Pv8LEH_9yw",
        "outputId": "4a9f27d9-2d41-46d8-b941-0c34c071bc3d"
      },
      "execution_count": 101,
      "outputs": [
        {
          "output_type": "stream",
          "name": "stdout",
          "text": [
            "Produto;Categoria;Quantidade;Preço_Unitario;Data\n",
            "\n",
            "Caneta Azul;Papelaria;10;1.50;2024-03-01\n",
            "\n",
            "Caderno Universitário;Papelaria;5;12.90;2024-03-01\n",
            "\n",
            "Mouse Óptico;Eletrônicos;2;45.00;2024-03-02\n",
            "\n",
            "Teclado USB;Eletrônicos;1;89.90;2024-03-02\n",
            "\n",
            "Lápis Preto;Papelaria;20;0.80;2024-03-03\n",
            "\n",
            "Cabo HDMI;Eletrônicos;3;25.00;2024-03-04\n",
            "\n",
            "Livro de Python;Livros;1;55.00;2024-03-04\n",
            "\n"
          ]
        }
      ]
    },
    {
      "cell_type": "code",
      "source": [
        "# exemplo 08 - Abrir um arquivo txt, escrever e depois ler\n",
        "\n",
        "# Escrevendo no arquivo\n",
        "f = open('escrever_arquivo.txt', 'w')\n",
        "texto = [\"palavra 1\", \"palavra 2\", \"palavra 3\"]\n",
        "\n",
        "for linha in texto:\n",
        "    f.write(linha + \"\\n\")  # escreve a linha e pula para a próxima\n",
        "f.close()\n",
        "\n",
        "# Lendo o arquivo e mostrando as palavras\n",
        "f = open('escrever_arquivo.txt', 'r')\n",
        "\n",
        "for linha in f:\n",
        "    palavras = linha.split()  # separa por espaço\n",
        "    print(palavras)\n",
        "\n",
        "f.close()\n"
      ],
      "metadata": {
        "colab": {
          "base_uri": "https://localhost:8080/"
        },
        "id": "sC8_SGXq_OHp",
        "outputId": "d7f23339-0d2b-4294-c048-e12f7c27e424"
      },
      "execution_count": 98,
      "outputs": [
        {
          "output_type": "stream",
          "name": "stdout",
          "text": [
            "['palavra', '1']\n",
            "['palavra', '2']\n",
            "['palavra', '3']\n"
          ]
        }
      ]
    },
    {
      "cell_type": "code",
      "source": [
        "#exemplo 07 - Ler todas as linhas de um arquivo com o for e separar as palavras de cada linha com o método split():​\n",
        "f = open('vendas.txt', 'r')\n",
        "for linha in f:\n",
        "    print(linha.split())\n",
        "f.close()"
      ],
      "metadata": {
        "colab": {
          "base_uri": "https://localhost:8080/"
        },
        "id": "rFL_zPt3_Jxd",
        "outputId": "864e6b1c-3be1-40c0-8ccf-ea5a06e1da7d"
      },
      "execution_count": 93,
      "outputs": [
        {
          "output_type": "stream",
          "name": "stdout",
          "text": [
            "['Produto;Categoria;Quantidade;Preço_Unitario;Data']\n",
            "['Caneta', 'Azul;Papelaria;10;1.50;2024-03-01']\n",
            "['Caderno', 'Universitário;Papelaria;5;12.90;2024-03-01']\n",
            "['Mouse', 'Óptico;Eletrônicos;2;45.00;2024-03-02']\n",
            "['Teclado', 'USB;Eletrônicos;1;89.90;2024-03-02']\n",
            "['Lápis', 'Preto;Papelaria;20;0.80;2024-03-03']\n",
            "['Cabo', 'HDMI;Eletrônicos;3;25.00;2024-03-04']\n",
            "['Livro', 'de', 'Python;Livros;1;55.00;2024-03-04']\n"
          ]
        }
      ]
    },
    {
      "cell_type": "code",
      "source": [
        "#exemplo 06 - Ler todas as linhas de um arquivo com laço de repetição for:​\n",
        "f = open('vendas.txt', 'r')\n",
        "for linha in f:\n",
        "    print(linha)\n",
        "f.close()"
      ],
      "metadata": {
        "colab": {
          "base_uri": "https://localhost:8080/"
        },
        "id": "BFm8YqaM_BjC",
        "outputId": "295f0ea5-04f3-4769-805f-de78946935f6"
      },
      "execution_count": 91,
      "outputs": [
        {
          "output_type": "stream",
          "name": "stdout",
          "text": [
            "Produto;Categoria;Quantidade;Preço_Unitario;Data\n",
            "\n",
            "Caneta Azul;Papelaria;10;1.50;2024-03-01\n",
            "\n",
            "Caderno Universitário;Papelaria;5;12.90;2024-03-01\n",
            "\n",
            "Mouse Óptico;Eletrônicos;2;45.00;2024-03-02\n",
            "\n",
            "Teclado USB;Eletrônicos;1;89.90;2024-03-02\n",
            "\n",
            "Lápis Preto;Papelaria;20;0.80;2024-03-03\n",
            "\n",
            "Cabo HDMI;Eletrônicos;3;25.00;2024-03-04\n",
            "\n",
            "Livro de Python;Livros;1;55.00;2024-03-04\n",
            "\n"
          ]
        }
      ]
    },
    {
      "cell_type": "code",
      "source": [
        "#exemplo 05 - Ler todas as linhas de um arquivo em uma list com o readlines().​\n",
        "f = open('vendas.txt', 'r')\n",
        "print(f.readlines())\n",
        "f.close()"
      ],
      "metadata": {
        "colab": {
          "base_uri": "https://localhost:8080/"
        },
        "id": "ertB9Xmb-ujk",
        "outputId": "2197f2fb-0315-44bf-dbac-d6858c54acd9"
      },
      "execution_count": 90,
      "outputs": [
        {
          "output_type": "stream",
          "name": "stdout",
          "text": [
            "['Produto;Categoria;Quantidade;Preço_Unitario;Data\\n', 'Caneta Azul;Papelaria;10;1.50;2024-03-01\\n', 'Caderno Universitário;Papelaria;5;12.90;2024-03-01\\n', 'Mouse Óptico;Eletrônicos;2;45.00;2024-03-02\\n', 'Teclado USB;Eletrônicos;1;89.90;2024-03-02\\n', 'Lápis Preto;Papelaria;20;0.80;2024-03-03\\n', 'Cabo HDMI;Eletrônicos;3;25.00;2024-03-04\\n', 'Livro de Python;Livros;1;55.00;2024-03-04\\n']\n"
          ]
        }
      ]
    },
    {
      "cell_type": "code",
      "source": [
        "#exemplo 04 - Ler a linha de um arquivo com o readline().​\n",
        "with open('vendas.txt', 'r') as f:\n",
        "    print(f.readline())\n",
        "    print(f.readline())\n",
        "    print(f.readline())\n",
        "    print(f.readline())\n",
        "    print(f.readline())\n",
        "    print(f.readline())\n",
        "    f.close()"
      ],
      "metadata": {
        "colab": {
          "base_uri": "https://localhost:8080/"
        },
        "id": "NVUeSZKx-gJh",
        "outputId": "8004dcbe-4178-404a-abf1-28e760d5ea69"
      },
      "execution_count": 89,
      "outputs": [
        {
          "output_type": "stream",
          "name": "stdout",
          "text": [
            "Produto;Categoria;Quantidade;Preço_Unitario;Data\n",
            "\n",
            "Caneta Azul;Papelaria;10;1.50;2024-03-01\n",
            "\n",
            "Caderno Universitário;Papelaria;5;12.90;2024-03-01\n",
            "\n",
            "Mouse Óptico;Eletrônicos;2;45.00;2024-03-02\n",
            "\n",
            "Teclado USB;Eletrônicos;1;89.90;2024-03-02\n",
            "\n",
            "Lápis Preto;Papelaria;20;0.80;2024-03-03\n",
            "\n"
          ]
        }
      ]
    },
    {
      "cell_type": "code",
      "source": [
        "#exemplo 03 - Criar e ler um arquivo com with.​\n",
        "with open('criar_arquivo', 'w') as f:\n",
        "    f.write('Arquivo criado e com texto\\n')\n",
        "    f.write('mais texto')\n",
        "\n",
        "with open('criar_arquivo', 'r') as f:\n",
        "    print(f.read())"
      ],
      "metadata": {
        "colab": {
          "base_uri": "https://localhost:8080/"
        },
        "id": "SZ5F17e1-UE_",
        "outputId": "a7869559-f349-438b-c90d-d07f57543c8b"
      },
      "execution_count": 79,
      "outputs": [
        {
          "output_type": "stream",
          "name": "stdout",
          "text": [
            "Arquivo criado e com texto\n",
            "mais texto\n"
          ]
        }
      ]
    },
    {
      "cell_type": "code",
      "source": [
        "#exemplo 02 - Vamos criar e ler um arquivo.​\n",
        "f = open('criar_arquivo', 'w')\n",
        "f.write('Arquivo criado e com texto')\n",
        "f.close()\n",
        "\n",
        "#ler\n",
        "\n",
        "f = open('criar_arquivo', 'r')\n",
        "print(f.read())\n",
        "f.close()"
      ],
      "metadata": {
        "colab": {
          "base_uri": "https://localhost:8080/"
        },
        "id": "AyuWBls396-w",
        "outputId": "44c5de60-5014-40d0-c08b-be5dee56e32f"
      },
      "execution_count": 78,
      "outputs": [
        {
          "output_type": "stream",
          "name": "stdout",
          "text": [
            "Arquivo criado e com texto\n"
          ]
        }
      ]
    },
    {
      "cell_type": "code",
      "execution_count": 100,
      "metadata": {
        "id": "9a557m8j2rPx",
        "colab": {
          "base_uri": "https://localhost:8080/"
        },
        "outputId": "ab052ad1-aa7e-4a15-c6b3-318bf1ba1ab4"
      },
      "outputs": [
        {
          "output_type": "stream",
          "name": "stdout",
          "text": [
            "<_io.TextIOWrapper name='vendas.txt' mode='r' encoding='utf-8'>\n",
            "Produto;Categoria;Quantidade;Preço_Unitario;Data\n",
            "Caneta Azul;Papelaria;10;1.50;2024-03-01\n",
            "Caderno Universitário;Papelaria;5;12.90;2024-03-01\n",
            "Mouse Óptico;Eletrônicos;2;45.00;2024-03-02\n",
            "Teclado USB;Eletrônicos;1;89.90;2024-03-02\n",
            "Lápis Preto;Papelaria;20;0.80;2024-03-03\n",
            "Cabo HDMI;Eletrônicos;3;25.00;2024-03-04\n",
            "Livro de Python;Livros;1;55.00;2024-03-04\n",
            "\n"
          ]
        }
      ],
      "source": [
        "#exemplo 01 - abrir e ler o arquivo\n",
        "arquivo = open(\"vendas.txt\", \"r\")\n",
        "print(arquivo)\n",
        "print(arquivo.read())"
      ]
    }
  ]
}